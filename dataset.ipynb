{
 "cells": [
  {
   "cell_type": "code",
   "execution_count": 1,
   "id": "55b5b34f-6022-4af6-b405-4e109ddfbe9c",
   "metadata": {},
   "outputs": [],
   "source": [
    "import os\n",
    "import shutil\n",
    "import random\n",
    "\n",
    "dataset_path = r\"C:\\Users\\dejoe\\git\\ai_project\\phase_3\\input\\chest_xray\"\n",
    "new_dataset_path = r\"C:\\Users\\dejoe\\git\\ai_project\\phase_3\\input\\chest_xray_new\"\n",
    "\n",
    "if not os.path.exists(new_dataset_path):\n",
    "    for split in ['train', 'val', 'test']:\n",
    "        for cls in ['NORMAL', 'PNEUMONIA']:\n",
    "            os.makedirs(f'{new_dataset_path}\\\\{split}\\\\{cls}', exist_ok=True)\n",
    "\n",
    "    for cls in ['NORMAL', 'PNEUMONIA']:\n",
    "        all_files = []\n",
    "        for split in ['train', 'val', 'test']:\n",
    "            source_folder = f'{dataset_path}\\\\{split}\\\\{cls}'\n",
    "            files = os.listdir(source_folder)\n",
    "            all_files.extend([(file, source_folder) for file in files])\n",
    "\n",
    "        random.shuffle(all_files)\n",
    "\n",
    "        train_files = all_files[:int(len(all_files)*0.8)]\n",
    "        val_files = all_files[int(len(all_files)*0.8):int(len(all_files)*0.9)]\n",
    "        test_files = all_files[int(len(all_files)*0.9):]\n",
    "\n",
    "        for file, source_folder in train_files:\n",
    "            dest = f'{new_dataset_path}\\\\train\\\\{cls}\\\\{file}'\n",
    "            shutil.copy(f'{source_folder}\\\\{file}', dest)\n",
    "\n",
    "        for file, source_folder in val_files:\n",
    "            dest = f'{new_dataset_path}\\\\val\\\\{cls}\\\\{file}'\n",
    "            shutil.copy(f'{source_folder}\\\\{file}', dest)\n",
    "\n",
    "        for file, source_folder in test_files:\n",
    "            dest = f'{new_dataset_path}\\\\test\\\\{cls}\\\\{file}'\n",
    "            shutil.copy(f'{source_folder}\\\\{file}', dest)\n"
   ]
  },
  {
   "cell_type": "code",
   "execution_count": null,
   "id": "53197a95-233b-4509-9a43-f4c940b2453f",
   "metadata": {},
   "outputs": [],
   "source": []
  }
 ],
 "metadata": {
  "kernelspec": {
   "display_name": "Python 3 (ipykernel)",
   "language": "python",
   "name": "python3"
  },
  "language_info": {
   "codemirror_mode": {
    "name": "ipython",
    "version": 3
   },
   "file_extension": ".py",
   "mimetype": "text/x-python",
   "name": "python",
   "nbconvert_exporter": "python",
   "pygments_lexer": "ipython3",
   "version": "3.11.5"
  }
 },
 "nbformat": 4,
 "nbformat_minor": 5
}
